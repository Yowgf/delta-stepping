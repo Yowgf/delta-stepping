{
 "cells": [
  {
   "cell_type": "code",
   "execution_count": 1,
   "metadata": {},
   "outputs": [],
   "source": [
    "import pandas as pd\n",
    "import numpy as np\n",
    "from matplotlib import pyplot as plt"
   ]
  },
  {
   "cell_type": "code",
   "execution_count": 5,
   "metadata": {},
   "outputs": [],
   "source": [
    "# matplotlib configuration\n",
    "plt.rcParams[\"figure.figsize\"] = (8, 8)\n",
    "plt.rcParams[\"axes.labelsize\"] = 14\n",
    "plt.rcParams[\"axes.labelweight\"] = \"bold\""
   ]
  },
  {
   "cell_type": "code",
   "execution_count": 6,
   "metadata": {},
   "outputs": [],
   "source": [
    "def geoSeq(leftLimit, rightLimit, step):\n",
    "    seq = []\n",
    "    i = leftLimit\n",
    "    while i <= rightLimit:\n",
    "        seq.append(i)    \n",
    "        i *= step\n",
    "    return seq\n",
    "\n",
    "def logPlot(xAxis, yAxis, legend=None):\n",
    "    plt.xlim(np.array(xAxis).min() * 0.8, np.array(xAxis).max() * 1.2)\n",
    "    plt.ylim(np.array(yAxis).min() * 0.8, np.array(yAxis).max() * 1.2)\n",
    "    plt.xscale(\"log\")\n",
    "    plt.yscale(\"log\")\n",
    "    plt.scatter(xAxis, yAxis, s=100, color=\"red\", marker=\"x\", edgecolor=\"white\")\n",
    "    plt.plot(xAxis, yAxis, label=legend)\n",
    "    if legend != None:\n",
    "        plt.legend()\n",
    "    \n",
    "def customPlot(xAxis, yAxis, legend=None):\n",
    "    plt.scatter(xAxis, yAxis, s=100, color=\"red\", marker=\"x\", edgecolor=\"white\")\n",
    "    plt.plot(xAxis, yAxis, label=legend)\n",
    "    if legend != None:\n",
    "        plt.legend()\n",
    "    "
   ]
  },
  {
   "cell_type": "code",
   "execution_count": 18,
   "metadata": {},
   "outputs": [],
   "source": [
    "def readTimeFiles(inFileName, inMode, numTests, tCount=\"\"):\n",
    "    baseDir = \"time-tests\"\n",
    "    # Format of the timing files: $inFileName-$inMode$tCount-run$i.out\n",
    "    times = []\n",
    "    for i in range(numTests):\n",
    "        with open(\"{}/{}-{}{}-run{}.out\".format(baseDir, inFileName, inMode, tCount, i)) as f:\n",
    "            times.append(float(f.read()))\n",
    "    return times\n",
    "def isParallel(mode):\n",
    "    return mode.__contains__(\"parallel\")\n",
    "def readModesMean(fileName, modes, numTimes, ts):\n",
    "    modeTime = dict()\n",
    "    for mode in modes:\n",
    "        if isParallel(mode):\n",
    "            for tCount in ts:\n",
    "                times = readTimeFiles(fileName, mode, numTimes, tCount)\n",
    "                modeTime[mode + str(tCount)] = np.mean(times)\n",
    "        else:\n",
    "            times = readTimeFiles(fileName, mode, numTimes)\n",
    "            modeTime[mode] = np.mean(times)\n",
    "    return modeTime\n",
    "\n",
    "modeTime = readModesMean(\"slashdot_posedges.mtx\", [\"dijkstra\", \"parallel\"], 10, [1, 2, 3, 4])"
   ]
  },
  {
   "cell_type": "code",
   "execution_count": 19,
   "metadata": {},
   "outputs": [
    {
     "data": {
      "text/plain": [
       "{'dijkstra': 0.0601714,\n",
       " 'parallel1': 0.017012,\n",
       " 'parallel2': 0.009447299999999999,\n",
       " 'parallel3': 0.0067765,\n",
       " 'parallel4': 0.005330400000000001}"
      ]
     },
     "execution_count": 19,
     "metadata": {},
     "output_type": "execute_result"
    }
   ],
   "source": [
    "modeTime"
   ]
  },
  {
   "cell_type": "code",
   "execution_count": null,
   "metadata": {},
   "outputs": [],
   "source": []
  }
 ],
 "metadata": {
  "kernelspec": {
   "display_name": "Python 3 (ipykernel)",
   "language": "python",
   "name": "python3"
  },
  "language_info": {
   "codemirror_mode": {
    "name": "ipython",
    "version": 3
   },
   "file_extension": ".py",
   "mimetype": "text/x-python",
   "name": "python",
   "nbconvert_exporter": "python",
   "pygments_lexer": "ipython3",
   "version": "3.8.10"
  }
 },
 "nbformat": 4,
 "nbformat_minor": 4
}
